{
 "cells": [
  {
   "cell_type": "code",
   "execution_count": 1,
   "metadata": {
    "run_control": {
     "frozen": false,
     "read_only": false
    }
   },
   "outputs": [
    {
     "data": {
      "text/html": [
       "<style>\n",
       ".lev1 {margin-left: 80px}\n",
       ".lev2 {margin-left: 100px}\n",
       ".lev3 {margin-left: 120px}\n",
       ".lev4 {margin-left: 140px}\n",
       ".lev5 {margin-left: 160px}\n",
       ".lev6 {margin-left: 180px}\n",
       "</style>"
      ],
      "text/plain": [
       "<IPython.core.display.HTML object>"
      ]
     },
     "execution_count": 1,
     "metadata": {},
     "output_type": "execute_result"
    }
   ],
   "source": [
    "from IPython.display import HTML\n",
    "\n",
    "HTML(\"\"\"<style>\n",
    ".lev1 {margin-left: 80px}\n",
    ".lev2 {margin-left: 100px}\n",
    ".lev3 {margin-left: 120px}\n",
    ".lev4 {margin-left: 140px}\n",
    ".lev5 {margin-left: 160px}\n",
    ".lev6 {margin-left: 180px}\n",
    "</style>\"\"\")"
   ]
  },
  {
   "cell_type": "markdown",
   "metadata": {
    "run_control": {
     "frozen": false,
     "read_only": false
    },
    "toc": "true"
   },
   "source": [
    "# Table of Contents\n",
    " <p><div class=\"lev1 toc-item\"><a href=\"#Build-the-network\" data-toc-modified-id=\"Build-the-network-1\"><span class=\"toc-item-num\">1&nbsp;&nbsp;</span>Build the network</a></div><div class=\"lev2 toc-item\"><a href=\"#Loading-and-cleaning-the-full-dataset\" data-toc-modified-id=\"Loading-and-cleaning-the-full-dataset-11\"><span class=\"toc-item-num\">1.1&nbsp;&nbsp;</span>Loading and cleaning the full dataset</a></div><div class=\"lev2 toc-item\"><a href=\"#Build-the-graph\" data-toc-modified-id=\"Build-the-graph-12\"><span class=\"toc-item-num\">1.2&nbsp;&nbsp;</span>Build the graph</a></div><div class=\"lev2 toc-item\"><a href=\"#Load-the-graph\" data-toc-modified-id=\"Load-the-graph-13\"><span class=\"toc-item-num\">1.3&nbsp;&nbsp;</span>Load the graph</a></div><div class=\"lev2 toc-item\"><a href=\"#Draw-the-graph\" data-toc-modified-id=\"Draw-the-graph-14\"><span class=\"toc-item-num\">1.4&nbsp;&nbsp;</span>Draw the graph</a></div><div class=\"lev1 toc-item\"><a href=\"#Network-statistics\" data-toc-modified-id=\"Network-statistics-2\"><span class=\"toc-item-num\">2&nbsp;&nbsp;</span>Network statistics</a></div><div class=\"lev2 toc-item\"><a href=\"#Connected-components\" data-toc-modified-id=\"Connected-components-21\"><span class=\"toc-item-num\">2.1&nbsp;&nbsp;</span>Connected components</a></div><div class=\"lev3 toc-item\"><a href=\"#distributions-of-connected-components-size\" data-toc-modified-id=\"distributions-of-connected-components-size-211\"><span class=\"toc-item-num\">2.1.1&nbsp;&nbsp;</span>distributions of connected components size</a></div><div class=\"lev2 toc-item\"><a href=\"#Centralities-measures\" data-toc-modified-id=\"Centralities-measures-22\"><span class=\"toc-item-num\">2.2&nbsp;&nbsp;</span>Centralities measures</a></div><div class=\"lev3 toc-item\"><a href=\"#Degree\" data-toc-modified-id=\"Degree-221\"><span class=\"toc-item-num\">2.2.1&nbsp;&nbsp;</span>Degree</a></div><div class=\"lev3 toc-item\"><a href=\"#Betweenness-centrality\" data-toc-modified-id=\"Betweenness-centrality-222\"><span class=\"toc-item-num\">2.2.2&nbsp;&nbsp;</span>Betweenness centrality</a></div><div class=\"lev2 toc-item\"><a href=\"#Degree-Assortativity\" data-toc-modified-id=\"Degree-Assortativity-23\"><span class=\"toc-item-num\">2.3&nbsp;&nbsp;</span>Degree Assortativity</a></div><div class=\"lev2 toc-item\"><a href=\"#Rich-club-coefficient\" data-toc-modified-id=\"Rich-club-coefficient-24\"><span class=\"toc-item-num\">2.4&nbsp;&nbsp;</span>Rich-club coefficient</a></div><div class=\"lev2 toc-item\"><a href=\"#Clustering-coefficient\" data-toc-modified-id=\"Clustering-coefficient-25\"><span class=\"toc-item-num\">2.5&nbsp;&nbsp;</span>Clustering coefficient</a></div><div class=\"lev2 toc-item\"><a href=\"#Add-attributes-to-nodes\" data-toc-modified-id=\"Add-attributes-to-nodes-26\"><span class=\"toc-item-num\">2.6&nbsp;&nbsp;</span>Add attributes to nodes</a></div><div class=\"lev2 toc-item\"><a href=\"#Community-detection-and-analysis\" data-toc-modified-id=\"Community-detection-and-analysis-27\"><span class=\"toc-item-num\">2.7&nbsp;&nbsp;</span>Community detection and analysis</a></div><div class=\"lev3 toc-item\"><a href=\"#distribution-of-community-size\" data-toc-modified-id=\"distribution-of-community-size-271\"><span class=\"toc-item-num\">2.7.1&nbsp;&nbsp;</span>distribution of community size</a></div><div class=\"lev1 toc-item\"><a href=\"#OTHER-CODE\" data-toc-modified-id=\"OTHER-CODE-3\"><span class=\"toc-item-num\">3&nbsp;&nbsp;</span>OTHER CODE</a></div>"
   ]
  },
  {
   "cell_type": "markdown",
   "metadata": {
    "collapsed": true,
    "run_control": {
     "frozen": false,
     "read_only": false
    }
   },
   "source": [
    "<center>\n",
    "<big><b>\n",
    "\n",
    "SNSF Co-authorship Network analysis\n",
    "\n",
    "</b></big>\n",
    "</center>"
   ]
  },
  {
   "cell_type": "code",
   "execution_count": 1,
   "metadata": {
    "collapsed": true,
    "run_control": {
     "frozen": false,
     "read_only": false
    }
   },
   "outputs": [],
   "source": [
    "import pandas as pd\n",
    "import numpy as np\n",
    "\n",
    "import matplotlib.pyplot as plt\n",
    "%matplotlib inline\n",
    "\n",
    "import datetime\n",
    "from scipy import stats\n",
    "\n",
    "import seaborn as sns\n",
    "sns.set_context('notebook')\n",
    "%config InlineBackend.figure_format = 'retina'\n",
    "\n",
    "import powerlaw \n",
    "import networkx as nx\n",
    "import itertools as itt\n",
    "import community\n",
    "import gc"
   ]
  },
  {
   "cell_type": "markdown",
   "metadata": {
    "run_control": {
     "frozen": false,
     "read_only": false
    }
   },
   "source": [
    "# Build the network \n",
    "\n",
    "We construct the runners' network where the _vertex are authors_ and links' weight are the __number of publications where they appear as co-author__."
   ]
  },
  {
   "cell_type": "markdown",
   "metadata": {
    "run_control": {
     "frozen": false,
     "read_only": false
    }
   },
   "source": [
    "## Loading and cleaning the full dataset"
   ]
  },
  {
   "cell_type": "code",
   "execution_count": 2,
   "metadata": {
    "run_control": {
     "frozen": false,
     "read_only": false
    }
   },
   "outputs": [
    {
     "name": "stdout",
     "output_type": "stream",
     "text": [
      "(82472, 26)\n"
     ]
    },
    {
     "data": {
      "text/html": [
       "<div>\n",
       "<table border=\"1\" class=\"dataframe\">\n",
       "  <thead>\n",
       "    <tr style=\"text-align: right;\">\n",
       "      <th></th>\n",
       "      <th>Publication ID SNSF</th>\n",
       "      <th>Project Number</th>\n",
       "      <th>Peer Review Status</th>\n",
       "      <th>Type of Publication</th>\n",
       "      <th>Title of Publication</th>\n",
       "      <th>Authors</th>\n",
       "      <th>Status</th>\n",
       "      <th>Publication Year</th>\n",
       "      <th>ISBN</th>\n",
       "      <th>DOI</th>\n",
       "      <th>...</th>\n",
       "      <th>Publisher</th>\n",
       "      <th>Editors</th>\n",
       "      <th>Journal Title</th>\n",
       "      <th>Volume</th>\n",
       "      <th>Issue / Number</th>\n",
       "      <th>Page from</th>\n",
       "      <th>Page to</th>\n",
       "      <th>Proceeding Title</th>\n",
       "      <th>Proceeding Place</th>\n",
       "      <th>Abstract</th>\n",
       "    </tr>\n",
       "  </thead>\n",
       "  <tbody>\n",
       "    <tr>\n",
       "      <th>0</th>\n",
       "      <td>{3001D662-AD1B-43DA-8BA2-5ADC25C9C347}</td>\n",
       "      <td>1094</td>\n",
       "      <td>Peer-reviewed</td>\n",
       "      <td>Book (peer-reviewed)</td>\n",
       "      <td>Platos Idee des Guten</td>\n",
       "      <td>Ferber Rafael</td>\n",
       "      <td>Published</td>\n",
       "      <td>2015.0</td>\n",
       "      <td>978-3-89665-666-7</td>\n",
       "      <td>NaN</td>\n",
       "      <td>...</td>\n",
       "      <td>Academia Verlag ,St. Augustin</td>\n",
       "      <td>NaN</td>\n",
       "      <td>NaN</td>\n",
       "      <td>NaN</td>\n",
       "      <td>NaN</td>\n",
       "      <td>NaN</td>\n",
       "      <td>NaN</td>\n",
       "      <td>NaN</td>\n",
       "      <td>NaN</td>\n",
       "      <td>At the centre of the monograph (1984  first ed...</td>\n",
       "    </tr>\n",
       "    <tr>\n",
       "      <th>1</th>\n",
       "      <td>{3F5669B1-C09F-4486-87FF-21A561C15B8A}</td>\n",
       "      <td>20108</td>\n",
       "      <td>Peer-reviewed</td>\n",
       "      <td>Original article (peer-reviewed)</td>\n",
       "      <td>MICROSTRUCTURE, LATTICE-PARAMETERS, AND SUPERC...</td>\n",
       "      <td>Xu Y. W.,  Suenaga M.,  Tafto J.,  Sabatini R....</td>\n",
       "      <td>Published</td>\n",
       "      <td>1989.0</td>\n",
       "      <td>NaN</td>\n",
       "      <td>10.1103/PhysRevB.39.6667                      ...</td>\n",
       "      <td>...</td>\n",
       "      <td>NaN</td>\n",
       "      <td>NaN</td>\n",
       "      <td>Physical Review B</td>\n",
       "      <td>39</td>\n",
       "      <td>10</td>\n",
       "      <td>6667</td>\n",
       "      <td>6680</td>\n",
       "      <td>NaN</td>\n",
       "      <td>NaN</td>\n",
       "      <td>NaN</td>\n",
       "    </tr>\n",
       "    <tr>\n",
       "      <th>2</th>\n",
       "      <td>{12293018-B2F8-4320-A5C8-24C21A2AB7D3}</td>\n",
       "      <td>20108</td>\n",
       "      <td>Peer-reviewed</td>\n",
       "      <td>Original article (peer-reviewed)</td>\n",
       "      <td>NEUTRON-POWDER-DIFFRACTION STUDY OF NUCLEAR AN...</td>\n",
       "      <td>Zolliker P.,  Cox D. E.,  Tranquada J. M.,  Sh...</td>\n",
       "      <td>Published</td>\n",
       "      <td>1988.0</td>\n",
       "      <td>NaN</td>\n",
       "      <td>10.1103/PhysRevB.38.6575                      ...</td>\n",
       "      <td>...</td>\n",
       "      <td>NaN</td>\n",
       "      <td>NaN</td>\n",
       "      <td>Physical Review B</td>\n",
       "      <td>38</td>\n",
       "      <td>10</td>\n",
       "      <td>6575</td>\n",
       "      <td>6582</td>\n",
       "      <td>NaN</td>\n",
       "      <td>NaN</td>\n",
       "      <td>NaN</td>\n",
       "    </tr>\n",
       "  </tbody>\n",
       "</table>\n",
       "<p>3 rows × 26 columns</p>\n",
       "</div>"
      ],
      "text/plain": [
       "                      Publication ID SNSF  Project Number Peer Review Status  \\\n",
       "0  {3001D662-AD1B-43DA-8BA2-5ADC25C9C347}            1094      Peer-reviewed   \n",
       "1  {3F5669B1-C09F-4486-87FF-21A561C15B8A}           20108      Peer-reviewed   \n",
       "2  {12293018-B2F8-4320-A5C8-24C21A2AB7D3}           20108      Peer-reviewed   \n",
       "\n",
       "                Type of Publication  \\\n",
       "0              Book (peer-reviewed)   \n",
       "1  Original article (peer-reviewed)   \n",
       "2  Original article (peer-reviewed)   \n",
       "\n",
       "                                Title of Publication  \\\n",
       "0                              Platos Idee des Guten   \n",
       "1  MICROSTRUCTURE, LATTICE-PARAMETERS, AND SUPERC...   \n",
       "2  NEUTRON-POWDER-DIFFRACTION STUDY OF NUCLEAR AN...   \n",
       "\n",
       "                                             Authors     Status  \\\n",
       "0                                      Ferber Rafael  Published   \n",
       "1  Xu Y. W.,  Suenaga M.,  Tafto J.,  Sabatini R....  Published   \n",
       "2  Zolliker P.,  Cox D. E.,  Tranquada J. M.,  Sh...  Published   \n",
       "\n",
       "   Publication Year               ISBN  \\\n",
       "0            2015.0  978-3-89665-666-7   \n",
       "1            1989.0                NaN   \n",
       "2            1988.0                NaN   \n",
       "\n",
       "                                                 DOI  \\\n",
       "0                                                NaN   \n",
       "1  10.1103/PhysRevB.39.6667                      ...   \n",
       "2  10.1103/PhysRevB.38.6575                      ...   \n",
       "\n",
       "                         ...                          \\\n",
       "0                        ...                           \n",
       "1                        ...                           \n",
       "2                        ...                           \n",
       "\n",
       "                       Publisher Editors      Journal Title Volume  \\\n",
       "0  Academia Verlag ,St. Augustin     NaN                NaN    NaN   \n",
       "1                            NaN     NaN  Physical Review B     39   \n",
       "2                            NaN     NaN  Physical Review B     38   \n",
       "\n",
       "  Issue / Number Page from Page to Proceeding Title Proceeding Place  \\\n",
       "0            NaN       NaN     NaN              NaN              NaN   \n",
       "1             10      6667    6680              NaN              NaN   \n",
       "2             10      6575    6582              NaN              NaN   \n",
       "\n",
       "                                            Abstract  \n",
       "0  At the centre of the monograph (1984  first ed...  \n",
       "1                                                NaN  \n",
       "2                                                NaN  \n",
       "\n",
       "[3 rows x 26 columns]"
      ]
     },
     "execution_count": 2,
     "metadata": {},
     "output_type": "execute_result"
    }
   ],
   "source": [
    "publications = pd.read_csv('./data_SNSF/P3_PublicationExport.csv',sep=';')\n",
    "\n",
    "print(publications.shape)\n",
    "publications.head(3)"
   ]
  },
  {
   "cell_type": "code",
   "execution_count": 3,
   "metadata": {
    "run_control": {
     "frozen": false,
     "read_only": false
    }
   },
   "outputs": [
    {
     "data": {
      "text/plain": [
       "Publication ID SNSF              0\n",
       "Project Number                   0\n",
       "Peer Review Status               0\n",
       "Type of Publication              0\n",
       "Title of Publication             1\n",
       "Authors                       1277\n",
       "Status                           0\n",
       "Publication Year             11082\n",
       "ISBN                         72783\n",
       "DOI                          39738\n",
       "Import Source                 2896\n",
       "Last Change of Outputdata      589\n",
       "Open Access Status               0\n",
       "Open Access Type             63558\n",
       "Open Access URL              63566\n",
       "Book Title                   75047\n",
       "Publisher                    66096\n",
       "Editors                      74089\n",
       "Journal Title                18737\n",
       "Volume                       27791\n",
       "Issue / Number               46323\n",
       "Page from                    18303\n",
       "Page to                      27839\n",
       "Proceeding Title             76417\n",
       "Proceeding Place             78485\n",
       "Abstract                     36600\n",
       "dtype: int64"
      ]
     },
     "execution_count": 3,
     "metadata": {},
     "output_type": "execute_result"
    }
   ],
   "source": [
    "publications.isnull().sum()"
   ]
  },
  {
   "cell_type": "markdown",
   "metadata": {
    "run_control": {
     "frozen": false,
     "read_only": false
    }
   },
   "source": [
    "\n",
    "this cell might be redundant, once we optimize the way we create the graph! - see _next section_"
   ]
  },
  {
   "cell_type": "code",
   "execution_count": 4,
   "metadata": {
    "run_control": {
     "frozen": false,
     "read_only": false
    }
   },
   "outputs": [
    {
     "name": "stdout",
     "output_type": "stream",
     "text": [
      "number of unique authors: 158836\n"
     ]
    }
   ],
   "source": [
    "authors_list = []\n",
    "\n",
    "for row in publications.itertuples():\n",
    "    \n",
    "    if type(row.Authors)==str:\n",
    "        \n",
    "        partial_list = row.Authors.split(',')\n",
    "        \n",
    "        # generate full list of authors - it has duplicates!\n",
    "        authors_list += [p.strip() for p in partial_list]\n",
    "        \n",
    "# number of unique authors\n",
    "print('number of unique authors:',len(set(authors_list)))"
   ]
  },
  {
   "cell_type": "markdown",
   "metadata": {
    "run_control": {
     "frozen": false,
     "read_only": false
    }
   },
   "source": [
    "distribution of : # times an author appears ==  # publication\n",
    "\n",
    "(Indeed, this plot confirms the one from the other notebook)"
   ]
  },
  {
   "cell_type": "code",
   "execution_count": 5,
   "metadata": {
    "run_control": {
     "frozen": false,
     "read_only": false
    }
   },
   "outputs": [
    {
     "data": {
      "image/png": "[encoded data removed]",
      "text/plain": [
       "<matplotlib.figure.Figure at 0x106c75ac8>"
      ]
     },
     "metadata": {
      "image/png": {
       "height": 353,
       "width": 512
      }
     },
     "output_type": "display_data"
    }
   ],
   "source": [
    "# plt.loglog(pd.Series(authors_list).value_counts().value_counts(),marker='.',linestyle='')\n",
    "\n",
    "powerlaw.plot_pdf(pd.Series(authors_list).value_counts(),marker='.',linestyle='')\n",
    "\n",
    "plt.xlabel('number of publications / author',size=16)\n",
    "# plt.ylabel('number of authors',size=16);\n",
    "plt.ylabel('fraction of authors',size=16);"
   ]
  },
  {
   "cell_type": "markdown",
   "metadata": {
    "run_control": {
     "frozen": false,
     "read_only": false
    }
   },
   "source": [
    "## Build the graph\n",
    "\n",
    "(mind that for now, for simplicity, we __neglect the number of publication shared by two authors__, therefore we have an _un-weighted graph_ - namely, there is a link, if there is _at least one publication_)"
   ]
  },
  {
   "cell_type": "code",
   "execution_count": 9,
   "metadata": {
    "collapsed": true,
    "run_control": {
     "frozen": false,
     "read_only": false
    }
   },
   "outputs": [],
   "source": [
    "# # Define graph and add __nodes__:\n",
    "\n",
    "# authors_graph = nx.Graph() # define graph\n",
    "# authors_graph.add_nodes_from(authors_list) # add nodes\n",
    "# del authors_list # free var name\n",
    "\n",
    "# print('total number of authors:',authors_graph.number_of_nodes())"
   ]
  },
  {
   "cell_type": "markdown",
   "metadata": {
    "run_control": {
     "frozen": false,
     "read_only": false
    }
   },
   "source": [
    "This is a _compact way_ to create the graph, that avoid avoids having 2 loops \n",
    "(one to create  a dict/list and another one to make a graph out of it)"
   ]
  },
  {
   "cell_type": "code",
   "execution_count": 7,
   "metadata": {
    "collapsed": true,
    "run_control": {
     "frozen": false,
     "read_only": false
    }
   },
   "outputs": [],
   "source": [
    "# %%time\n",
    "\n",
    "# # for the code inside the loop, credits to the 3rd answer here\n",
    "# # http://stackoverflow.com/questions/10649673/how-to-generate-a-fully-connected-subgraph-from-node-list-using-pythons-network\n",
    "\n",
    "# # for c in itt.combinations(authors_graph.nodes()[:4],2):\n",
    "\n",
    "# #     print(c[0],c[1])\n",
    "\n",
    "# # create the main graph \n",
    "# authors_graph = nx.Graph()\n",
    "\n",
    "# # let's frist try with the first 1000 publications\n",
    "\n",
    "# for row in publications.loc[:10000,:].itertuples():\n",
    "    \n",
    "#     if type(row.Authors)==str:\n",
    "        \n",
    "#         partial_list = row.Authors.split(',')\n",
    "        \n",
    "#         # create fully connected sub-graph for each publication        \n",
    "#         sub_graph = nx.complete_graph(len(partial_list))\n",
    "#         nx.relabel_nodes(sub_graph,dict(enumerate(partial_list)),copy=False)\n",
    "        \n",
    "\n",
    "#         #         check sub-graph\n",
    "# #         print(sub_graph.number_of_nodes(),sub_graph.number_of_edges())\n",
    "#         #         print(len(partial_list),sub_graph.number_of_edges()) \n",
    "        \n",
    "#         # add new graph to main one         \n",
    "#         authors_graph = nx.compose(authors_graph,sub_graph)\n",
    "        \n",
    "\n",
    "# #     old_weight = authors_graph.add_edge(c[0],c[1],weight = )\n",
    "# #     old_weight += 1\n",
    "# #     authors_graph.add_edge(c[0],c[1],weight = old_weight)"
   ]
  },
  {
   "cell_type": "markdown",
   "metadata": {
    "run_control": {
     "frozen": false,
     "read_only": false
    }
   },
   "source": [
    "<center>\n",
    "    <b>\n",
    "        The full computation is done with  a parellelized version in `par_authors_net_from_subgraphs.py`\n",
    "    </b>\n",
    "    \n",
    "    <p>\n",
    "        (run on IC cluster, with python2.7)\n",
    "    </p>\n",
    "</center>"
   ]
  },
  {
   "cell_type": "markdown",
   "metadata": {
    "run_control": {
     "frozen": false,
     "read_only": false
    }
   },
   "source": [
    "in case you wanna save the graph:"
   ]
  },
  {
   "cell_type": "code",
   "execution_count": null,
   "metadata": {
    "collapsed": true,
    "run_control": {
     "frozen": false,
     "read_only": false
    }
   },
   "outputs": [],
   "source": [
    "# nx.write_gpickle(authors_graph,'authors_graph')\n",
    "# trial_graph = nx.read_gpickle('authors_graph')   ## <-- how to read it back!"
   ]
  },
  {
   "cell_type": "code",
   "execution_count": 12,
   "metadata": {
    "collapsed": true,
    "run_control": {
     "frozen": false,
     "read_only": false
    }
   },
   "outputs": [],
   "source": [
    "# print('# edges of a fully-connected graph with same size:',int(n_nodes*(n_nodes-1)/2))\n",
    "# print('# edges of our graph:',len(authors_graph.edges()))"
   ]
  },
  {
   "cell_type": "markdown",
   "metadata": {
    "run_control": {
     "frozen": false,
     "read_only": false
    }
   },
   "source": [
    "## Load the graph"
   ]
  },
  {
   "cell_type": "markdown",
   "metadata": {
    "run_control": {
     "frozen": false,
     "read_only": false
    }
   },
   "source": [
    " mind that __pickle__ have a \n",
    " [well-known portability issues](http://stackoverflow.com/questions/28218466/unpickling-a-python-2-object-with-python-3)\n",
    " from python2 (write) to python3 (read), so have to use such encoding"
   ]
  },
  {
   "cell_type": "code",
   "execution_count": 341,
   "metadata": {
    "collapsed": true,
    "run_control": {
     "frozen": false,
     "read_only": false
    }
   },
   "outputs": [],
   "source": [
    "import pickle"
   ]
  },
  {
   "cell_type": "code",
   "execution_count": 342,
   "metadata": {
    "collapsed": true,
    "run_control": {
     "frozen": false,
     "read_only": false
    }
   },
   "outputs": [],
   "source": [
    "with open('authors_graph', 'rb') as my_f:\n",
    "\n",
    "    authors_graph = pickle.load(my_f, encoding='latin1')"
   ]
  },
  {
   "cell_type": "code",
   "execution_count": 343,
   "metadata": {
    "run_control": {
     "frozen": false,
     "read_only": false
    }
   },
   "outputs": [
    {
     "name": "stdout",
     "output_type": "stream",
     "text": [
      "number of nodes: 158836\n",
      "number of edges: 1010253\n"
     ]
    }
   ],
   "source": [
    "print('number of nodes:',nx.number_of_nodes(authors_graph))\n",
    "print('number of edges:',nx.number_of_edges(authors_graph))"
   ]
  },
  {
   "cell_type": "markdown",
   "metadata": {
    "run_control": {
     "frozen": false,
     "read_only": false
    }
   },
   "source": [
    "mind that __there are self-loops!__..."
   ]
  },
  {
   "cell_type": "markdown",
   "metadata": {
    "run_control": {
     "frozen": false,
     "read_only": false
    }
   },
   "source": [
    "...that should be removed:"
   ]
  },
  {
   "cell_type": "code",
   "execution_count": 345,
   "metadata": {
    "run_control": {
     "frozen": false,
     "read_only": false
    }
   },
   "outputs": [
    {
     "data": {
      "text/plain": [
       "0"
      ]
     },
     "execution_count": 345,
     "metadata": {},
     "output_type": "execute_result"
    }
   ],
   "source": [
    "for sle in authors_graph.selfloop_edges():\n",
    "    authors_graph.remove_edge(*sle)\n",
    "\n",
    "# check that are indeed removed\n",
    "len(authors_graph.selfloop_edges())"
   ]
  },
  {
   "cell_type": "markdown",
   "metadata": {
    "collapsed": true,
    "run_control": {
     "frozen": false,
     "read_only": false
    }
   },
   "source": [
    "## Draw the graph   \n",
    "(credits to [this answer on SO](credits to http://stackoverflow.com/questions/21711184/drawing-a-large-weighted-network-in-networkx-based-on-thickness))"
   ]
  },
  {
   "cell_type": "code",
   "execution_count": 15,
   "metadata": {
    "collapsed": true,
    "run_control": {
     "frozen": false,
     "read_only": false
    }
   },
   "outputs": [],
   "source": [
    "# # choose the layout\n",
    "# pos = nx.spring_layout(authors_graph)\n",
    "\n",
    "# # get edge weight to use as width in the plot\n",
    "# # edgewidth = [ d['weight'] for (u,v,d) in authors_graph.edges(data=True)]\n",
    "\n",
    "# # acutal plot\n",
    "# nx.draw_networkx_nodes(authors_graph, pos,node_size=3)\n",
    "# nx.draw_networkx_edges(authors_graph, pos, width=0.1)\n",
    "# #                        width = np.array(edgewidth)/1000.0)\n",
    "# plt.axis('off');"
   ]
  },
  {
   "cell_type": "markdown",
   "metadata": {
    "run_control": {
     "frozen": false,
     "read_only": false
    }
   },
   "source": [
    "# Network statistics "
   ]
  },
  {
   "cell_type": "markdown",
   "metadata": {
    "run_control": {
     "frozen": false,
     "read_only": false
    }
   },
   "source": [
    "## Connected components \n",
    "please, see \n",
    "[here](https://networkx.github.io/documentation/networkx-1.9/reference/generated/networkx.algorithms.components.connected.connected_component_subgraphs.html)\n",
    "the relative documentation on networkx \n",
    "\n",
    "(here is an [example] on how to plot the \n",
    "[giant conponent](https://networkx.github.io/documentation/networkx-1.9/examples/drawing/giant_component.html))"
   ]
  },
  {
   "cell_type": "code",
   "execution_count": 346,
   "metadata": {
    "run_control": {
     "frozen": false,
     "read_only": false
    }
   },
   "outputs": [
    {
     "name": "stdout",
     "output_type": "stream",
     "text": [
      "number of connected components: 12097\n",
      "CPU times: user 9.13 s, sys: 262 ms, total: 9.39 s\n",
      "Wall time: 9.4 s\n"
     ]
    }
   ],
   "source": [
    "%%time\n",
    "\n",
    "connected_comp = list(nx.connected_component_subgraphs(authors_graph))\n",
    "\n",
    "print('number of connected components:',len(connected_comp))"
   ]
  },
  {
   "cell_type": "markdown",
   "metadata": {
    "run_control": {
     "frozen": false,
     "read_only": false
    }
   },
   "source": [
    "### distributions of connected components size"
   ]
  },
  {
   "cell_type": "code",
   "execution_count": 347,
   "metadata": {
    "collapsed": true,
    "run_control": {
     "frozen": false,
     "read_only": false
    }
   },
   "outputs": [],
   "source": [
    "data_for_fit  = pd.Series([len(s) for s in connected_comp])"
   ]
  },
  {
   "cell_type": "code",
   "execution_count": 348,
   "metadata": {
    "run_control": {
     "frozen": false,
     "read_only": false
    }
   },
   "outputs": [
    {
     "name": "stdout",
     "output_type": "stream",
     "text": [
      "number of CCs with at least 2 authors: 2927\n"
     ]
    }
   ],
   "source": [
    "print('number of CCs with at least 2 authors:',sum(data_for_fit>1))"
   ]
  },
  {
   "cell_type": "code",
   "execution_count": 349,
   "metadata": {
    "run_control": {
     "frozen": false,
     "read_only": false
    }
   },
   "outputs": [
    {
     "data": {
      "image/png": "[encoded data removed]",
      "text/plain": [
       "<matplotlib.figure.Figure at 0x11422ce48>"
      ]
     },
     "metadata": {
      "image/png": {
       "height": 353,
       "width": 506
      }
     },
     "output_type": "display_data"
    }
   ],
   "source": [
    "# plt.loglog(data_for_fit.value_counts(),marker='.',linestyle='')\n",
    "# plt.ylabel('number of connected components ',size=16); \n",
    "\n",
    "powerlaw.plot_pdf(data_for_fit,marker='.',linestyle='')\n",
    "\n",
    "plt.xlabel('connected component size',size=16)\n",
    "plt.ylabel('fraction of connected components ',size=16); "
   ]
  },
  {
   "cell_type": "markdown",
   "metadata": {
    "run_control": {
     "frozen": false,
     "read_only": false
    }
   },
   "source": [
    "list of __10 largest CC__:"
   ]
  },
  {
   "cell_type": "code",
   "execution_count": 350,
   "metadata": {
    "run_control": {
     "frozen": false,
     "read_only": false
    }
   },
   "outputs": [
    {
     "data": {
      "text/plain": [
       "0       132030\n",
       "27         109\n",
       "258         70\n",
       "346         68\n",
       "2617        67\n",
       "657         61\n",
       "24          61\n",
       "244         55\n",
       "123         51\n",
       "140         50\n",
       "dtype: int64"
      ]
     },
     "execution_count": 350,
     "metadata": {},
     "output_type": "execute_result"
    }
   ],
   "source": [
    "data_for_fit.sort_values(ascending=False)[:10]"
   ]
  },
  {
   "cell_type": "code",
   "execution_count": 13,
   "metadata": {
    "collapsed": true,
    "run_control": {
     "frozen": false,
     "read_only": false
    }
   },
   "outputs": [],
   "source": [
    "# fit_conn_comp_size = powerlaw.Fit(data_for_fit,discrete=True)\n",
    "\n",
    "# print('fitted exponent:',fit_conn_comp_size.alpha)\n",
    "# print('fitting error:',fit_conn_comp_size.sigma)\n",
    "\n",
    "# print('xmin of the fit:',fit_conn_comp_size.xmin)\n",
    "# print('xmax of the fit:',fit_conn_comp_size.xmax)"
   ]
  },
  {
   "cell_type": "code",
   "execution_count": 12,
   "metadata": {
    "collapsed": true,
    "run_control": {
     "frozen": false,
     "read_only": false
    }
   },
   "outputs": [],
   "source": [
    "# powerlaw.plot_pdf(data_for_fit,marker='.',linestyle='',label='data')\n",
    "\n",
    "# fit_conn_comp_size.power_law.plot_pdf(label='p-l fit')\n",
    "\n",
    "# plt.legend()\n",
    "# plt.ylabel('fraction of connected components', size=16)\n",
    "# plt.xlabel('connected component size', size=16);"
   ]
  },
  {
   "cell_type": "markdown",
   "metadata": {
    "run_control": {
     "frozen": false,
     "read_only": false
    }
   },
   "source": [
    "## Centralities measures\n",
    "(usually performed on the largest CC)"
   ]
  },
  {
   "cell_type": "markdown",
   "metadata": {
    "run_control": {
     "frozen": false,
     "read_only": false
    }
   },
   "source": [
    "### Degree"
   ]
  },
  {
   "cell_type": "code",
   "execution_count": 372,
   "metadata": {
    "collapsed": true,
    "run_control": {
     "frozen": false,
     "read_only": false
    }
   },
   "outputs": [],
   "source": [
    "degree_authors = connected_comp[0].degree()"
   ]
  },
  {
   "cell_type": "code",
   "execution_count": 352,
   "metadata": {
    "run_control": {
     "frozen": false,
     "read_only": false
    }
   },
   "outputs": [
    {
     "data": {
      "text/plain": [
       "[('et al.', 2456),\n",
       " ('others', 422),\n",
       " ('Vollenweider Peter', 398),\n",
       " ('LÃ¼scher Thomas F', 386),\n",
       " ('Mach FranÃ§ois', 384),\n",
       " ('Kutalik ZoltÃ¡n', 383),\n",
       " ('Auwerx Johan', 371),\n",
       " ('Gagneux Sebastien', 359),\n",
       " ('Aebersold Ruedi', 356),\n",
       " ('Bettler Bernhard', 349)]"
      ]
     },
     "execution_count": 352,
     "metadata": {},
     "output_type": "execute_result"
    }
   ],
   "source": [
    "sorted(degree_authors.items(), key=lambda x: x[1],reverse=True)[:10]"
   ]
  },
  {
   "cell_type": "code",
   "execution_count": 353,
   "metadata": {
    "run_control": {
     "frozen": false,
     "read_only": false
    }
   },
   "outputs": [
    {
     "data": {
      "image/png": "[encoded data removed]",
      "text/plain": [
       "<matplotlib.figure.Figure at 0x133920ba8>"
      ]
     },
     "metadata": {
      "image/png": {
       "height": 353,
       "width": 506
      }
     },
     "output_type": "display_data"
    }
   ],
   "source": [
    "powerlaw.plot_pdf(list(degree_authors.values()),marker='.',linestyle='',label='data')\n",
    "plt.ylabel('fraction of nodes',size=16)\n",
    "plt.xlabel('authors\\' degree - largest CC',size=16);\n",
    "plt.legend();\n",
    "\n",
    "plt.annotate('\\'et al.\\' >>',[700,10**(-7.9)])\n",
    "plt.annotate('<< \\'others\\'',[500,10**(-6.4)]); \n",
    "\n",
    "# plt.savefig('./plots_for_paper/authors_degree_dist_wrong.pdf',bbox_inches='tight')"
   ]
  },
  {
   "cell_type": "markdown",
   "metadata": {
    "run_control": {
     "frozen": false,
     "read_only": false
    }
   },
   "source": [
    "we have also __'et al.'__ and __'others'__ that should discarded !..."
   ]
  },
  {
   "cell_type": "markdown",
   "metadata": {
    "run_control": {
     "frozen": false,
     "read_only": false
    }
   },
   "source": [
    "...from the graph..."
   ]
  },
  {
   "cell_type": "code",
   "execution_count": 354,
   "metadata": {
    "collapsed": true,
    "run_control": {
     "frozen": false,
     "read_only": false
    }
   },
   "outputs": [],
   "source": [
    "authors_graph.remove_node('et al.')\n",
    "authors_graph.remove_node('others')"
   ]
  },
  {
   "cell_type": "markdown",
   "metadata": {
    "run_control": {
     "frozen": false,
     "read_only": false
    }
   },
   "source": [
    "...and from the CC0"
   ]
  },
  {
   "cell_type": "code",
   "execution_count": 355,
   "metadata": {
    "collapsed": true,
    "run_control": {
     "frozen": false,
     "read_only": false
    }
   },
   "outputs": [],
   "source": [
    "connected_comp[0].remove_node('et al.')\n",
    "connected_comp[0].remove_node('others')"
   ]
  },
  {
   "cell_type": "code",
   "execution_count": 356,
   "metadata": {
    "run_control": {
     "frozen": false,
     "read_only": false
    }
   },
   "outputs": [
    {
     "name": "stdout",
     "output_type": "stream",
     "text": [
      "number of nodes: 158834\n",
      "number of edges: 1006695\n",
      "number of nodes in the largest CC: 132028\n"
     ]
    }
   ],
   "source": [
    "print('number of nodes:',nx.number_of_nodes(authors_graph))\n",
    "print('number of edges:',nx.number_of_edges(authors_graph))\n",
    "print('number of nodes in the largest CC:',nx.number_of_nodes(connected_comp[0]))"
   ]
  },
  {
   "cell_type": "markdown",
   "metadata": {},
   "source": [
    "some other checks...not big problems, afterall..."
   ]
  },
  {
   "cell_type": "code",
   "execution_count": 357,
   "metadata": {},
   "outputs": [
    {
     "name": "stdout",
     "output_type": "stream",
     "text": [
      "GIANT consortium 5\n",
      "+ many other authors (consortium) 7\n",
      "SST-1M consortium 15\n",
      "IntraBioDiv consortium 8\n",
      "The CycliX consortium 10\n"
     ]
    }
   ],
   "source": [
    "# [print(k,v) for k,v in degree_authors.items() if 'author' in k];\n",
    "[print(k,v) for k,v in degree_authors.items() if 'consortium' in k];"
   ]
  },
  {
   "cell_type": "markdown",
   "metadata": {
    "run_control": {
     "frozen": false,
     "read_only": false
    }
   },
   "source": [
    "__re-compute degree dist__, after removing non-real authors:"
   ]
  },
  {
   "cell_type": "code",
   "execution_count": 358,
   "metadata": {
    "collapsed": true,
    "run_control": {
     "frozen": false,
     "read_only": false
    }
   },
   "outputs": [],
   "source": [
    "degree_authors = connected_comp[0].degree()\n",
    "\n",
    "converted_degree = pd.Series(degree_authors)\n",
    "\n",
    "non_zero_degree = converted_degree[converted_degree!=0]"
   ]
  },
  {
   "cell_type": "markdown",
   "metadata": {},
   "source": [
    "remove useless vars:"
   ]
  },
  {
   "cell_type": "code",
   "execution_count": 359,
   "metadata": {},
   "outputs": [
    {
     "data": {
      "text/plain": [
       "59976"
      ]
     },
     "execution_count": 359,
     "metadata": {},
     "output_type": "execute_result"
    }
   ],
   "source": [
    "del degree_authors\n",
    "del converted_degree\n",
    "gc.collect()"
   ]
  },
  {
   "cell_type": "markdown",
   "metadata": {},
   "source": [
    "here the algo fits automatically the __right tail only__:   \n",
    "(finds the best `xmin`)"
   ]
  },
  {
   "cell_type": "code",
   "execution_count": 360,
   "metadata": {
    "run_control": {
     "frozen": false,
     "read_only": false
    }
   },
   "outputs": [
    {
     "name": "stdout",
     "output_type": "stream",
     "text": [
      "fitted exponent: 3.47760121705\n",
      "fitting error: 0.0338857364288\n",
      "xmin of the fit: 43.0\n",
      "xmax of the fit: None\n"
     ]
    },
    {
     "name": "stderr",
     "output_type": "stream",
     "text": [
      "Calculating best minimal value for power law fit\n",
      "/Library/Frameworks/Python.framework/Versions/3.6/lib/python3.6/site-packages/powerlaw.py:692: RuntimeWarning: invalid value encountered in true_divide\n",
      "  (Theoretical_CDF * (1 - Theoretical_CDF))\n",
      "/Library/Frameworks/Python.framework/Versions/3.6/lib/python3.6/site-packages/powerlaw.py:692: RuntimeWarning: divide by zero encountered in true_divide\n",
      "  (Theoretical_CDF * (1 - Theoretical_CDF))\n"
     ]
    }
   ],
   "source": [
    "# MIND !! that we set xmin=1 - for a better comparison with log-normal\n",
    "# fit_author_degree = powerlaw.Fit(data_for_fit,discrete=True,xmin=1)\n",
    "\n",
    "fit_author_degree = powerlaw.Fit(non_zero_degree,discrete=True)\n",
    "\n",
    "print('fitted exponent:',fit_author_degree.alpha)\n",
    "print('fitting error:',fit_author_degree.sigma)\n",
    "\n",
    "print('xmin of the fit:',fit_author_degree.xmin)\n",
    "print('xmax of the fit:',fit_author_degree.xmax)"
   ]
  },
  {
   "cell_type": "markdown",
   "metadata": {
    "run_control": {
     "frozen": false,
     "read_only": false
    }
   },
   "source": [
    "`lognormal` it is a little (stat. sign.) better  fit..."
   ]
  },
  {
   "cell_type": "code",
   "execution_count": 361,
   "metadata": {
    "run_control": {
     "frozen": false,
     "read_only": false
    }
   },
   "outputs": [
    {
     "name": "stderr",
     "output_type": "stream",
     "text": [
      "/Library/Frameworks/Python.framework/Versions/3.6/lib/python3.6/site-packages/powerlaw.py:692: RuntimeWarning: invalid value encountered in true_divide\n",
      "  (Theoretical_CDF * (1 - Theoretical_CDF))\n"
     ]
    },
    {
     "data": {
      "text/plain": [
       "(-13.623689326430831, 0.0013295108784109032)"
      ]
     },
     "execution_count": 361,
     "metadata": {},
     "output_type": "execute_result"
    }
   ],
   "source": [
    "fit_author_degree.distribution_compare('power_law','lognormal')"
   ]
  },
  {
   "cell_type": "markdown",
   "metadata": {},
   "source": [
    "plotting the degree dist + fit     \n",
    "(for more fancy __inset plot__, please read \n",
    "[this post](http://matplotlib.org/1.3.1/mpl_toolkits/axes_grid/users/overview.html))"
   ]
  },
  {
   "cell_type": "markdown",
   "metadata": {},
   "source": [
    "fit of the whole dist:  `lognormal` is fits stat. sign.  __much better__ (` p ~ 0` ):"
   ]
  },
  {
   "cell_type": "code",
   "execution_count": 362,
   "metadata": {},
   "outputs": [
    {
     "name": "stderr",
     "output_type": "stream",
     "text": [
      "/Library/Frameworks/Python.framework/Versions/3.6/lib/python3.6/site-packages/powerlaw.py:692: RuntimeWarning: invalid value encountered in true_divide\n",
      "  (Theoretical_CDF * (1 - Theoretical_CDF))\n"
     ]
    },
    {
     "data": {
      "text/plain": [
       "(-104479.43880978745, 0.0)"
      ]
     },
     "execution_count": 362,
     "metadata": {},
     "output_type": "execute_result"
    }
   ],
   "source": [
    "logn_fit_author_degree = powerlaw.Fit(non_zero_degree,discrete=True,xmin=min(non_zero_degree))\n",
    "logn_fit_author_degree.distribution_compare('power_law','lognormal')"
   ]
  },
  {
   "cell_type": "code",
   "execution_count": 363,
   "metadata": {
    "run_control": {
     "frozen": false,
     "read_only": false
    }
   },
   "outputs": [
    {
     "data": {
      "image/png": "[encoded data removed]",
      "text/plain": [
       "<matplotlib.figure.Figure at 0x1490278d0>"
      ]
     },
     "metadata": {
      "image/png": {
       "height": 354,
       "width": 506
      }
     },
     "output_type": "display_data"
    }
   ],
   "source": [
    "# main plot\n",
    "\n",
    "# plt.loglog(non_zero_degree.value_counts(),marker='.',linestyle='',label='data')\n",
    "powerlaw.plot_pdf(non_zero_degree,marker='.',linestyle='',label='data',c='k')\n",
    "logn_fit_author_degree.lognormal.plot_pdf(label='log-normal fit',c='r')\n",
    "plt.ylabel('fraction of nodes',size=16)\n",
    "plt.xlabel('authors\\' degree - largest CC',size=16)\n",
    "# plt.axvline(x=43,label='xmin = 43')\n",
    "plt.legend()\n",
    "\n",
    "\n",
    "\n",
    "# inset plot\n",
    "\n",
    "# fig, ax1 = plt.subplots()\n",
    "left, bottom, width, height = [0.2, 0.2 , 0.3, 0.3 ]\n",
    "plt.axes([left, bottom, width, height])\n",
    "fit_author_degree.plot_pdf(marker='.',linestyle='',label='data')\n",
    "fit_author_degree.power_law.plot_pdf(label='p-l fit')\n",
    "plt.legend(loc=3) # https://matplotlib.org/api/legend_api.html\n",
    "\n",
    "# save whole plot\n",
    "plt.savefig('./plots_for_paper/authors_degree_dist.pdf',bbox_inches='tight')"
   ]
  },
  {
   "cell_type": "code",
   "execution_count": 107,
   "metadata": {
    "run_control": {
     "frozen": false,
     "read_only": false
    }
   },
   "outputs": [
    {
     "name": "stdout",
     "output_type": "stream",
     "text": [
      "sigma of log-nor: 0.849882315243\n",
      "mu of log-nor: 2.31303026469\n"
     ]
    }
   ],
   "source": [
    "print('sigma of log-nor:',logn_fit_author_degree.lognormal.sigma)\n",
    "print('mu of log-nor:',logn_fit_author_degree.lognormal.mu)"
   ]
  },
  {
   "cell_type": "code",
   "execution_count": 364,
   "metadata": {},
   "outputs": [
    {
     "data": {
      "text/plain": [
       "Vollenweider Peter    398\n",
       "LÃ¼scher Thomas F     386\n",
       "Mach FranÃ§ois        384\n",
       "Kutalik ZoltÃ¡n       382\n",
       "Auwerx Johan          371\n",
       "Gagneux Sebastien     359\n",
       "Aebersold Ruedi       356\n",
       "Bettler Bernhard      349\n",
       "Wurz P.               344\n",
       "{Udry} S.             334\n",
       "dtype: int64"
      ]
     },
     "execution_count": 364,
     "metadata": {},
     "output_type": "execute_result"
    }
   ],
   "source": [
    "non_zero_degree.sort_values(ascending=False)[:10]"
   ]
  },
  {
   "cell_type": "markdown",
   "metadata": {
    "run_control": {
     "frozen": false,
     "read_only": false
    }
   },
   "source": [
    "### Betweenness centrality"
   ]
  },
  {
   "cell_type": "code",
   "execution_count": 98,
   "metadata": {
    "collapsed": true,
    "run_control": {
     "frozen": false,
     "read_only": false
    }
   },
   "outputs": [],
   "source": [
    "# even on parallel TAKES TOO MUCH TIME!\n",
    "\n",
    "# import parallel_betweenness\n",
    "# %time parallel_betweenness.betweenness_centrality_parallel(connected_comp[0])\n",
    "# %time betweenness_authors = nx.betweenness_centrality(connected_comp[0])"
   ]
  },
  {
   "cell_type": "markdown",
   "metadata": {
    "run_control": {
     "frozen": false,
     "read_only": false
    }
   },
   "source": [
    "the computation is done on __IC cluster__ using `parallel_betweenness.py`"
   ]
  },
  {
   "cell_type": "code",
   "execution_count": 94,
   "metadata": {
    "collapsed": true,
    "run_control": {
     "frozen": false,
     "read_only": false
    }
   },
   "outputs": [],
   "source": [
    "# sns.distplot(list(betweenness_authors.values()),kde=False)\n",
    "\n",
    "# # plt.xscale('log')\n",
    "# plt.yscale('log')\n",
    "\n",
    "# plt.ylabel('number of authors',size=16)\n",
    "# plt.xlabel('authors\\' betweenness',size=16);"
   ]
  },
  {
   "cell_type": "markdown",
   "metadata": {},
   "source": [
    "load computed data from file:"
   ]
  },
  {
   "cell_type": "code",
   "execution_count": 267,
   "metadata": {
    "collapsed": true
   },
   "outputs": [],
   "source": [
    "with open('./authors_bet.p', 'rb') as my_f:\n",
    "\n",
    "    authors_bet = pickle.load(my_f)"
   ]
  },
  {
   "cell_type": "markdown",
   "metadata": {},
   "source": [
    "tranform in series and _get rid of 0s_:"
   ]
  },
  {
   "cell_type": "code",
   "execution_count": 268,
   "metadata": {
    "collapsed": true
   },
   "outputs": [],
   "source": [
    "transf_author_bet = pd.Series(authors_bet)\n",
    "\n",
    "non_zero_bet = transf_author_bet[transf_author_bet!=0]"
   ]
  },
  {
   "cell_type": "markdown",
   "metadata": {},
   "source": [
    "remove useless vars:"
   ]
  },
  {
   "cell_type": "code",
   "execution_count": 269,
   "metadata": {},
   "outputs": [
    {
     "data": {
      "text/plain": [
       "49481"
      ]
     },
     "execution_count": 269,
     "metadata": {},
     "output_type": "execute_result"
    }
   ],
   "source": [
    "del my_f\n",
    "del authors_bet\n",
    "del transf_author_bet\n",
    "gc.collect()"
   ]
  },
  {
   "cell_type": "markdown",
   "metadata": {},
   "source": [
    "...and _remove 'et al.'_:"
   ]
  },
  {
   "cell_type": "code",
   "execution_count": 270,
   "metadata": {},
   "outputs": [],
   "source": [
    "non_zero_bet.drop('et al.',inplace=True)\n",
    "non_zero_bet.drop('others',inplace=True)"
   ]
  },
  {
   "cell_type": "markdown",
   "metadata": {},
   "source": [
    "plot dist of betweenness:"
   ]
  },
  {
   "cell_type": "code",
   "execution_count": 278,
   "metadata": {},
   "outputs": [
    {
     "data": {
      "image/png": "[encoded data removed]",
      "text/plain": [
       "<matplotlib.figure.Figure at 0x13d4c8630>"
      ]
     },
     "metadata": {
      "image/png": {
       "height": 353,
       "width": 502
      }
     },
     "output_type": "display_data"
    }
   ],
   "source": [
    "#  ok plot, but not great ....\n",
    "# plt.hist(non_zero_bet, bins='fd');\n",
    "\n",
    "plt.loglog(non_zero_bet.value_counts(bins=1000),\n",
    "           marker='.',linestyle='',label='data');\n",
    "\n",
    "plt.ylabel('number of nodes',size=16)\n",
    "plt.xlabel('authors betweenness - largets CC',size=16);\n",
    "\n",
    "plt.savefig('./plots_for_paper/authors_betweenness_dist.pdf',bbox_inches='tight')"
   ]
  },
  {
   "cell_type": "code",
   "execution_count": 264,
   "metadata": {},
   "outputs": [],
   "source": [
    "# IT TAKES TOO MUCH TIME!!  -  don't know why\n",
    "\n",
    "# fit_author_bet = powerlaw.Fit(non_zero_bet)\n",
    "\n",
    "# print('fitted exponent:',fit_author_bet.alpha)\n",
    "# print('fitting error:',fit_author_bet.sigma)\n",
    "\n",
    "# print('xmin of the fit:',fit_author_bet.xmin)\n",
    "# print('xmax of the fit:',fit_author_bet.xmax)"
   ]
  },
  {
   "cell_type": "markdown",
   "metadata": {},
   "source": [
    "authors with largest betweenness:"
   ]
  },
  {
   "cell_type": "code",
   "execution_count": 277,
   "metadata": {},
   "outputs": [
    {
     "data": {
      "text/plain": [
       "{Bailey} S.        0.023518\n",
       "Kutalik ZoltÃ¡n    0.022525\n",
       "{McBride} C.~K.    0.021393\n",
       "Aebersold Ruedi    0.014951\n",
       "Rudin Markus       0.014536\n",
       "                   0.013075\n",
       "Bochud Murielle    0.012987\n",
       "Negro F            0.012896\n",
       "Neri Dario         0.012438\n",
       "Caflisch Amedeo    0.012033\n",
       "dtype: float64"
      ]
     },
     "execution_count": 277,
     "metadata": {},
     "output_type": "execute_result"
    }
   ],
   "source": [
    "non_zero_bet.sort_values(ascending=False)[:10]"
   ]
  },
  {
   "cell_type": "markdown",
   "metadata": {
    "run_control": {
     "frozen": false,
     "read_only": false
    }
   },
   "source": [
    "## Degree Assortativity"
   ]
  },
  {
   "cell_type": "markdown",
   "metadata": {
    "run_control": {
     "frozen": false,
     "read_only": false
    }
   },
   "source": [
    "basically there is __no degree assortativity:__"
   ]
  },
  {
   "cell_type": "code",
   "execution_count": 365,
   "metadata": {
    "run_control": {
     "frozen": false,
     "read_only": false
    }
   },
   "outputs": [
    {
     "name": "stdout",
     "output_type": "stream",
     "text": [
      "CPU times: user 3.81 s, sys: 5.85 ms, total: 3.82 s\n",
      "Wall time: 3.81 s\n"
     ]
    },
    {
     "data": {
      "text/plain": [
       "0.073879541021284634"
      ]
     },
     "execution_count": 365,
     "metadata": {},
     "output_type": "execute_result"
    }
   ],
   "source": [
    "%time nx.degree_assortativity_coefficient(connected_comp[0])"
   ]
  },
  {
   "cell_type": "markdown",
   "metadata": {},
   "source": [
    "## Rich-club coefficient"
   ]
  },
  {
   "cell_type": "markdown",
   "metadata": {},
   "source": [
    "it takes too much time..."
   ]
  },
  {
   "cell_type": "code",
   "execution_count": 367,
   "metadata": {},
   "outputs": [],
   "source": [
    "# %time authors_rcc = nx.rich_club_coefficient(connected_comp[0])"
   ]
  },
  {
   "cell_type": "markdown",
   "metadata": {
    "run_control": {
     "frozen": false,
     "read_only": false
    }
   },
   "source": [
    "## Clustering coefficient"
   ]
  },
  {
   "cell_type": "code",
   "execution_count": 53,
   "metadata": {
    "run_control": {
     "frozen": false,
     "read_only": false
    }
   },
   "outputs": [
    {
     "name": "stdout",
     "output_type": "stream",
     "text": [
      "CPU times: user 10.5 s, sys: 32.4 ms, total: 10.5 s\n",
      "Wall time: 10.5 s\n"
     ]
    }
   ],
   "source": [
    "%time clustering_runners = nx.clustering(connected_comp[0])"
   ]
  },
  {
   "cell_type": "code",
   "execution_count": 54,
   "metadata": {
    "run_control": {
     "frozen": false,
     "read_only": false
    }
   },
   "outputs": [
    {
     "data": {
      "image/png": "[encoded data removed]",
      "text/plain": [
       "<matplotlib.figure.Figure at 0x134bad6d8>"
      ]
     },
     "metadata": {
      "image/png": {
       "height": 348,
       "width": 502
      }
     },
     "output_type": "display_data"
    }
   ],
   "source": [
    "sns.distplot(list(clustering_runners.values()),kde=False)\n",
    "\n",
    "plt.yscale('log')\n",
    "\n",
    "plt.ylabel('number of authors',size=16)\n",
    "plt.xlabel('authors\\' clustering coefficient - largest CC',size=16);\n",
    "plt.savefig('./plots_for_paper/authors_clu_coeff_dist.pdf',bbox_inches='tight')"
   ]
  },
  {
   "cell_type": "markdown",
   "metadata": {
    "run_control": {
     "frozen": false,
     "read_only": false
    }
   },
   "source": [
    "here we check the 'usual' (??) anti-correlation between betweenness_centrality and clustering coefficient:"
   ]
  },
  {
   "cell_type": "code",
   "execution_count": 89,
   "metadata": {
    "cell_style": "center",
    "collapsed": true,
    "run_control": {
     "frozen": false,
     "read_only": false
    }
   },
   "outputs": [],
   "source": [
    "# plt.scatter(np.fromiter(clustering_runners.values(),dtype=float),\n",
    "#             np.fromiter(betweenness_authors.values(),dtype=float),s=5)\n",
    "\n",
    "# plt.xlabel('authors\\' clustering coefficient',size=16)\n",
    "# plt.ylabel('authors\\' betweenness',size=16);"
   ]
  },
  {
   "cell_type": "markdown",
   "metadata": {},
   "source": [
    "## Add attributes to nodes "
   ]
  },
  {
   "cell_type": "code",
   "execution_count": 322,
   "metadata": {},
   "outputs": [
    {
     "name": "stdout",
     "output_type": "stream",
     "text": [
      "(93565, 13)\n"
     ]
    },
    {
     "data": {
      "text/html": [
       "<div>\n",
       "<table border=\"1\" class=\"dataframe\">\n",
       "  <thead>\n",
       "    <tr style=\"text-align: right;\">\n",
       "      <th></th>\n",
       "      <th>Last Name</th>\n",
       "      <th>First Name</th>\n",
       "      <th>Gender</th>\n",
       "      <th>Institute Name</th>\n",
       "      <th>Institute Place</th>\n",
       "      <th>Person ID SNSF</th>\n",
       "      <th>ORCID</th>\n",
       "      <th>Projects as responsible Applicant</th>\n",
       "      <th>Projects as Applicant</th>\n",
       "      <th>Projects as Partner</th>\n",
       "      <th>Projects as Practice Partner</th>\n",
       "      <th>Projects as Employee</th>\n",
       "      <th>Projects as Contact Person</th>\n",
       "    </tr>\n",
       "  </thead>\n",
       "  <tbody>\n",
       "    <tr>\n",
       "      <th>0</th>\n",
       "      <td>a Marca</td>\n",
       "      <td>Andrea</td>\n",
       "      <td>male</td>\n",
       "      <td>NaN</td>\n",
       "      <td>NaN</td>\n",
       "      <td>132628</td>\n",
       "      <td>NaN</td>\n",
       "      <td>67368</td>\n",
       "      <td>NaN</td>\n",
       "      <td>NaN</td>\n",
       "      <td>NaN</td>\n",
       "      <td>NaN</td>\n",
       "      <td>NaN</td>\n",
       "    </tr>\n",
       "    <tr>\n",
       "      <th>1</th>\n",
       "      <td>a Marca</td>\n",
       "      <td>Davide</td>\n",
       "      <td>male</td>\n",
       "      <td>NaN</td>\n",
       "      <td>NaN</td>\n",
       "      <td>53856</td>\n",
       "      <td>NaN</td>\n",
       "      <td>NaN</td>\n",
       "      <td>NaN</td>\n",
       "      <td>NaN</td>\n",
       "      <td>NaN</td>\n",
       "      <td>36549</td>\n",
       "      <td>NaN</td>\n",
       "    </tr>\n",
       "    <tr>\n",
       "      <th>2</th>\n",
       "      <td>Aaberg</td>\n",
       "      <td>Johan</td>\n",
       "      <td>male</td>\n",
       "      <td>NaN</td>\n",
       "      <td>NaN</td>\n",
       "      <td>575257</td>\n",
       "      <td>NaN</td>\n",
       "      <td>NaN</td>\n",
       "      <td>NaN</td>\n",
       "      <td>NaN</td>\n",
       "      <td>NaN</td>\n",
       "      <td>119868</td>\n",
       "      <td>NaN</td>\n",
       "    </tr>\n",
       "  </tbody>\n",
       "</table>\n",
       "</div>"
      ],
      "text/plain": [
       "  Last Name First Name Gender Institute Name Institute Place  Person ID SNSF  \\\n",
       "0   a Marca     Andrea   male            NaN             NaN          132628   \n",
       "1   a Marca     Davide   male            NaN             NaN           53856   \n",
       "2    Aaberg      Johan   male            NaN             NaN          575257   \n",
       "\n",
       "  ORCID Projects as responsible Applicant Projects as Applicant  \\\n",
       "0   NaN                             67368                   NaN   \n",
       "1   NaN                               NaN                   NaN   \n",
       "2   NaN                               NaN                   NaN   \n",
       "\n",
       "  Projects as Partner Projects as Practice Partner Projects as Employee  \\\n",
       "0                 NaN                          NaN                  NaN   \n",
       "1                 NaN                          NaN                36549   \n",
       "2                 NaN                          NaN               119868   \n",
       "\n",
       "  Projects as Contact Person  \n",
       "0                        NaN  \n",
       "1                        NaN  \n",
       "2                        NaN  "
      ]
     },
     "execution_count": 322,
     "metadata": {},
     "output_type": "execute_result"
    }
   ],
   "source": [
    "persons = pd.read_csv('./data_SNSF/P3_PersonExport.csv',sep=';')\n",
    "print(persons.shape)\n",
    "persons.head(3)"
   ]
  },
  {
   "cell_type": "markdown",
   "metadata": {},
   "source": [
    "this is taking too much time -.- ....    \n",
    "(execution stopped)"
   ]
  },
  {
   "cell_type": "code",
   "execution_count": 339,
   "metadata": {},
   "outputs": [],
   "source": [
    "%%time\n",
    "\n",
    "num_nodes_in_list = 0\n",
    "\n",
    "for row in persons[persons['Last Name'].notnull() & persons['First Name'].notnull()].itertuples():\n",
    "    \n",
    "#     print(persons.loc[row.Index,['First Name','Last Name']])\n",
    "    full_name = persons.loc[row.Index,'Last Name'] + ' ' +  persons.loc[row.Index,'First Name']\n",
    "    \n",
    "    if full_name in connected_comp[0].nodes():\n",
    "        num_nodes_in_list += 1\n",
    "        \n",
    "num_nodes_in_list"
   ]
  },
  {
   "cell_type": "markdown",
   "metadata": {
    "run_control": {
     "frozen": false,
     "read_only": false
    }
   },
   "source": [
    "## Community detection and analysis"
   ]
  },
  {
   "cell_type": "code",
   "execution_count": 292,
   "metadata": {
    "run_control": {
     "frozen": false,
     "read_only": false
    }
   },
   "outputs": [
    {
     "name": "stdout",
     "output_type": "stream",
     "text": [
      "number of communities: 231\n",
      "CPU times: user 46.2 s, sys: 245 ms, total: 46.5 s\n",
      "Wall time: 46.5 s\n"
     ]
    }
   ],
   "source": [
    "%%time\n",
    "\n",
    "partition = community.best_partition(connected_comp[0])\n",
    "print('number of communities:', len(set(partition.values())))"
   ]
  },
  {
   "cell_type": "markdown",
   "metadata": {
    "run_control": {
     "frozen": false,
     "read_only": false
    }
   },
   "source": [
    "Analysing communities:"
   ]
  },
  {
   "cell_type": "code",
   "execution_count": 293,
   "metadata": {
    "run_control": {
     "frozen": false,
     "read_only": false
    }
   },
   "outputs": [
    {
     "data": {
      "image/png": "[encoded data removed]",
      "text/plain": [
       "<matplotlib.figure.Figure at 0x14d3cafd0>"
      ]
     },
     "metadata": {
      "image/png": {
       "height": 351,
       "width": 502
      }
     },
     "output_type": "display_data"
    }
   ],
   "source": [
    "sns.countplot(y=list(partition.values()))\n",
    "\n",
    "plt.ylabel('community name',size=16)\n",
    "plt.xlabel('number of authors',size=16);"
   ]
  },
  {
   "cell_type": "markdown",
   "metadata": {
    "run_control": {
     "frozen": false,
     "read_only": false
    }
   },
   "source": [
    "### distribution of community size"
   ]
  },
  {
   "cell_type": "code",
   "execution_count": null,
   "metadata": {
    "collapsed": true
   },
   "outputs": [],
   "source": [
    "communities_sizes = pd.Series(list(partition.values())).value_counts()"
   ]
  },
  {
   "cell_type": "code",
   "execution_count": 314,
   "metadata": {},
   "outputs": [
    {
     "data": {
      "image/png": "[encoded data removed]",
      "text/plain": [
       "<matplotlib.figure.Figure at 0x14a8fc2b0>"
      ]
     },
     "metadata": {
      "image/png": {
       "height": 353,
       "width": 506
      }
     },
     "output_type": "display_data"
    }
   ],
   "source": [
    "powerlaw.plot_pdf(communities_sizes,marker='.',linestyle='')\n",
    "# plt.loglog(communities_sizes[communities_sizes>1000].value_counts(bins=100),\n",
    "#            marker='.',linestyle='')\n",
    "\n",
    "plt.xlabel('community size',size=16);\n",
    "plt.ylabel('fraction of communities',size=16); "
   ]
  },
  {
   "cell_type": "code",
   "execution_count": 316,
   "metadata": {},
   "outputs": [
    {
     "data": {
      "text/plain": [
       "23    3791\n",
       "21    3281\n",
       "6     3104\n",
       "25    2870\n",
       "20    2811\n",
       "26    2719\n",
       "14    2524\n",
       "10    2446\n",
       "86    2386\n",
       "4     2352\n",
       "dtype: int64"
      ]
     },
     "execution_count": 316,
     "metadata": {},
     "output_type": "execute_result"
    }
   ],
   "source": [
    "communities_sizes.sort_values(ascending=False)[:10]"
   ]
  },
  {
   "cell_type": "code",
   "execution_count": 2,
   "metadata": {
    "collapsed": true,
    "run_control": {
     "frozen": false,
     "read_only": false
    }
   },
   "outputs": [],
   "source": [
    "# comm0 = [k for k,v in partition.items() if v==0]\n",
    "# comm1 = [k for k,v in partition.items() if v==1]\n",
    "# comm2 = [k for k,v in partition.items() if v==2]\n",
    "\n",
    "# communities_df = pd.DataFrame([len(comm0),len(comm1),len(comm2)])\n",
    "# communities_df.columns = ['number_nodes']\n",
    "# communities_df"
   ]
  },
  {
   "cell_type": "code",
   "execution_count": 370,
   "metadata": {},
   "outputs": [
    {
     "data": {
      "text/plain": [
       "[]"
      ]
     },
     "execution_count": 370,
     "metadata": {},
     "output_type": "execute_result"
    }
   ],
   "source": [
    "# some example check:  \n",
    "# look for node with k>100, in community 23\n",
    "[print(k,connected_comp[0].degree(k)) for k,v in partition.items() if v==23 & connected_comp[0].degree(k)>100]"
   ]
  },
  {
   "cell_type": "markdown",
   "metadata": {},
   "source": [
    " communities of very ( > some threshold = 200) connected nodes:"
   ]
  },
  {
   "cell_type": "code",
   "execution_count": 388,
   "metadata": {
    "scrolled": true
   },
   "outputs": [
    {
     "name": "stdout",
     "output_type": "stream",
     "text": [
      " 0\n",
      "Luan Jian'an 70\n",
      "Lovis C. 31\n",
      "Egger Matthias 6\n",
      "Neri Dario 95\n",
      "Telenti Amalio 6\n",
      "Decurtins Silvio 4\n",
      "Recher Mike 21\n",
      "Kutalik ZoltÃ¡n 70\n",
      "Akdis M 45\n",
      "Aebersold Ruedi 26\n",
      "Suter Ueli 123\n",
      "Vollenweider Peter 70\n",
      "Utzinger JÃ¼rg 97\n",
      "Sallusto Federica 26\n",
      "Waeber GÃ©rard 70\n",
      "GÃ¼nthard Huldrych F 6\n",
      "Keiser Jennifer 97\n",
      "Antonarakis SE 40\n",
      "Zhao Jing Hua 70\n",
      "Reith Walter 21\n",
      "Merkler Doron 21\n",
      "Matter Christian M. 10\n",
      "{Udry} S. 17\n",
      "Gassmann Max 88\n",
      "Wurz P. 51\n",
      "Krause Karl-Heinz 49\n",
      "Montecucco Fabrizio 10\n",
      "Mach F 61\n",
      "Waterhouse Robert M 44\n",
      "Bochud Pierre-Yves 6\n",
      "Conen David 70\n",
      "Joos F. 74\n",
      "Moradpour Darius 6\n",
      "Liu Shi-Xia 4\n",
      "Schawinski Kevin 8\n",
      "Pabst Thomas 33\n",
      "Thorens Bernard 49\n",
      "Heim Markus H 6\n",
      "Tamm Michael 29\n",
      "Schoonjans Kristina 81\n",
      "Rodondi Nicolas 70\n",
      "Moch Holger 20\n",
      "Picotti Paola 26\n",
      "Bettler Bernhard 30\n",
      "LÃ¼scher Thomas F 10\n",
      "Calandra Thierry 96\n",
      "{Queloz} D. 17\n",
      "Graf Rolf 20\n",
      "Battegay Manuel 6\n",
      "Peter Matthias 26\n",
      "Montecucco F 61\n",
      "Thomas N. 51\n",
      "Baltensperger U. 3\n",
      "Pepe F. 31\n",
      "Matter Christian M 10\n",
      "Zdobnov Evgeny M 44\n",
      "Stolz Daiana 29\n",
      "Keiser Olivia 6\n",
      "Weingartner E. 3\n",
      "Christ-Crain Mirjam 29\n",
      "Auwerx Johan 81\n",
      "Beckmann Jacques S 70\n",
      "HÃ¤berle Johannes 126\n",
      "Trono Didier 98\n",
      "Zaidi Habib 23\n",
      "Terracciano Luigi 76\n",
      "Mooser Vincent 70\n",
      "Antonarakis Stylianos E 98\n",
      "Roger Thierry 96\n",
      "Altwegg K. 51\n",
      "Gagneux Sebastien 6\n",
      "Fischer H. 74\n",
      "Johnson Toby 70\n",
      "Waeber Gerard 70\n",
      "Becher Burkhard 10\n",
      "Kutalik Zoltan 6\n",
      "Bochud Murielle 70\n",
      "Schuetz P. 112\n",
      "Ronnow H. M. 25\n",
      "Mach FranÃ§ois 10\n",
      "Kwak Brenda R 10\n",
      "{Moutou} C. 17\n",
      "Toso Christian 49\n"
     ]
    }
   ],
   "source": [
    "[print(k,v)  for k,v in partition.items() if connected_comp[0].degree(k)>200];"
   ]
  },
  {
   "cell_type": "markdown",
   "metadata": {
    "run_control": {
     "frozen": false,
     "read_only": false
    }
   },
   "source": [
    "# OTHER CODE"
   ]
  },
  {
   "cell_type": "markdown",
   "metadata": {
    "run_control": {
     "frozen": false,
     "read_only": false
    }
   },
   "source": [
    "Drawing communities on graph:"
   ]
  },
  {
   "cell_type": "code",
   "execution_count": 3,
   "metadata": {
    "collapsed": true,
    "run_control": {
     "frozen": false,
     "read_only": false
    }
   },
   "outputs": [],
   "source": [
    "# size = float(len(set(partition.values())))\n",
    "# pos = nx.spring_layout(authors_graph)\n",
    "\n",
    "# count = 0.\n",
    "# for com in set(partition.values()) :\n",
    "#     count = count + 1.\n",
    "#     list_nodes = [nodes for nodes in partition.keys()\n",
    "#                                 if partition[nodes] == com]\n",
    "#     nx.draw_networkx_nodes(authors_graph, pos, list_nodes, node_size = 10,\n",
    "#                                 node_color = str(count / size))\n",
    "\n",
    "\n",
    "# nx.draw_networkx_edges(authors_graph,pos, width = np.array(edgewidth)/1000.0)\n",
    "# plt.axis('off')\n",
    "# plt.show();"
   ]
  },
  {
   "cell_type": "markdown",
   "metadata": {},
   "source": [
    "check size of large vars:"
   ]
  },
  {
   "cell_type": "code",
   "execution_count": 279,
   "metadata": {
    "collapsed": true,
    "run_control": {
     "frozen": false,
     "read_only": false
    }
   },
   "outputs": [],
   "source": [
    "import sys"
   ]
  },
  {
   "cell_type": "code",
   "execution_count": 289,
   "metadata": {},
   "outputs": [
    {
     "name": "stdout",
     "output_type": "stream",
     "text": [
      "publications 193.468332\n",
      "_41 10.550583\n",
      "_48 10.550583\n",
      "non_zero_degree 10.546916\n",
      "_50 10.546916\n",
      "_82 10.546916\n"
     ]
    }
   ],
   "source": [
    "for var, obj in locals().items():\n",
    "    \n",
    "    if sys.getsizeof(obj)/1000000 > 10:\n",
    "        print(var, sys.getsizeof(obj)/1000000)"
   ]
  }
 ],
 "metadata": {
  "kernelspec": {
   "display_name": "Python 3",
   "language": "python",
   "name": "python3"
  },
  "language_info": {
   "codemirror_mode": {
    "name": "ipython",
    "version": 3
   },
   "file_extension": ".py",
   "mimetype": "text/x-python",
   "name": "python",
   "nbconvert_exporter": "python",
   "pygments_lexer": "ipython3",
   "version": "3.6.0"
  },
  "toc": {
   "colors": {
    "hover_highlight": "#DAA520",
    "running_highlight": "#FF0000",
    "selected_highlight": "#FFD700"
   },
   "moveMenuLeft": true,
   "nav_menu": {
    "height": "12px",
    "width": "252px"
   },
   "navigate_menu": true,
   "number_sections": false,
   "sideBar": false,
   "threshold": 4,
   "toc_cell": true,
   "toc_position": {
    "height": "40px",
    "left": "873.9749755859375px",
    "right": "20px",
    "top": "43.98749923706055px",
    "width": "218px"
   },
   "toc_section_display": "block",
   "toc_window_display": true
  }
 },
 "nbformat": 4,
 "nbformat_minor": 2
}
